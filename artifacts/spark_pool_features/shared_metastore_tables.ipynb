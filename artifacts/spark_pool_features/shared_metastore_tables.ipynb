{
  "cells": [
    {
      "cell_type": "markdown",
      "source": [
        "# Use Case:\r\n",
        "Collaboration between Data Engineers and Data Analysts. \r\n",
        "Tables created using Apache Spark can be queries using Synapse SQL Serverless.\r\n",
        "Documentation: https://docs.microsoft.com/en-us/azure/synapse-analytics/metadata/table#create-an-external-table-in-spark-and-query-from-serverless-sql-pool"
      ],
      "metadata": {
        "nteract": {
          "transient": {
            "deleting": false
          }
        }
      }
    },
    {
      "cell_type": "code",
      "source": [
        "%%sql\r\n",
        "-- Create Apache Spark database\r\n",
        "CREATE DATABASE SparkSample;"
      ],
      "outputs": [],
      "execution_count": null,
      "metadata": {
        "jupyter": {
          "source_hidden": false,
          "outputs_hidden": false
        },
        "nteract": {
          "transient": {
            "deleting": false
          }
        },
        "microsoft": {
          "language": "sparksql"
        },
        "collapsed": false
      }
    },
    {
      "cell_type": "code",
      "source": [
        "%%sql\r\n",
        "-- Create External \r\n",
        "CREATE TABLE SparkSample.FactResellerSales\r\n",
        "    USING Parquet\r\n",
        "    LOCATION \"abfss://data@REPLACE_DATALAKE_NAME.dfs.core.windows.net/Sample/AdventureWorks/FactResellerSales/\""
      ],
      "outputs": [],
      "execution_count": null,
      "metadata": {
        "microsoft": {
          "language": "sparksql"
        },
        "collapsed": false
      }
    },
    {
      "cell_type": "code",
      "source": [
        "%%sql\r\n",
        "-- You can Query the Table using Apache Spark SQL\r\n",
        "SELECT * FROM  SparkSample.FactResellerSales"
      ],
      "outputs": [],
      "execution_count": null,
      "metadata": {
        "jupyter": {
          "source_hidden": false,
          "outputs_hidden": false
        },
        "nteract": {
          "transient": {
            "deleting": false
          }
        },
        "microsoft": {
          "language": "sparksql"
        },
        "collapsed": false
      }
    },
    {
      "cell_type": "markdown",
      "source": [
        "# Next Steps:\r\n",
        "Now, you can open a SQL Script, and using the Synapse SQL Serverless Pool, run the following query to check that you can now query the Spark table using T-SQL:\r\n",
        "```sql\r\n",
        "USE SparkSample;\r\n",
        "\r\n",
        "SELECT * FROM sys.tables;\r\n",
        "\r\n",
        "SELECT  YEAR(OrderDate) AS [Year],\r\n",
        "        MONTH(OrderDate) AS [Month], \r\n",
        "        AVG(OrderQuantity) as AVG_OrderQuantity  \r\n",
        "FROM dbo.FactResellerSales\r\n",
        "GROUP BY YEAR(OrderDate), MONTH(OrderDate)\r\n",
        "ORDER BY [Year] DESC, [Month] DESC;\r\n",
        "```"
      ],
      "metadata": {
        "nteract": {
          "transient": {
            "deleting": false
          }
        }
      }
    },
    {
      "cell_type": "markdown",
      "source": [
        "# Clean Up:"
      ],
      "metadata": {
        "nteract": {
          "transient": {
            "deleting": false
          }
        }
      }
    },
    {
      "cell_type": "code",
      "source": [
        "%%sql\r\n",
        "DROP TABLE SparkSample.FactResellerSales;\r\n",
        "DROP DATABASE SparkSample;"
      ],
      "outputs": [],
      "execution_count": null,
      "metadata": {
        "jupyter": {
          "source_hidden": false,
          "outputs_hidden": false
        },
        "nteract": {
          "transient": {
            "deleting": false
          }
        },
        "microsoft": {
          "language": "sparksql"
        }
      }
    }
  ],
  "metadata": {
    "kernelspec": {
      "name": "synapse_pyspark",
      "language": "Python",
      "display_name": "Synapse PySpark"
    },
    "language_info": {
      "name": "python"
    },
    "kernel_info": {
      "name": "synapse_pyspark"
    },
    "description": null,
    "save_output": true,
    "synapse_widget": {
      "version": "0.1",
      "state": {}
    }
  },
  "nbformat": 4,
  "nbformat_minor": 2
}